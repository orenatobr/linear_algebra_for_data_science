{
 "cells": [
  {
   "cell_type": "markdown",
   "id": "5c5b0b91",
   "metadata": {},
   "source": [
    "# 📘 Linear Algebra for Data Science - Practical Implementation\n",
    "\n",
    "This notebook provides practical implementations of key **Linear Algebra** concepts used in **Data Science** and **Machine Learning**.\n",
    "We will cover:\n",
    "\n",
    "- **Vectors and Matrices** 📊\n",
    "- **Linear Transformations** 🔄\n",
    "- **Eigenvalues and Eigenvectors** 🔢\n",
    "- **Matrix Decomposition (SVD & LU)** ⚡\n",
    "- **Variance and Covariance** 📈\n",
    "\n",
    "Let's dive into the power of Linear Algebra! 🚀\n"
   ]
  },
  {
   "cell_type": "code",
   "execution_count": 1,
   "id": "889ed975",
   "metadata": {},
   "outputs": [
    {
     "name": "stderr",
     "output_type": "stream",
     "text": [
      "Matplotlib is building the font cache; this may take a moment.\n"
     ]
    }
   ],
   "source": [
    "# Importing required libraries\n",
    "import numpy as np\n",
    "import matplotlib.pyplot as plt\n",
    "import pandas as pd\n",
    "from scipy.linalg import lu, svd\n",
    "from numpy.linalg import eig\n"
   ]
  },
  {
   "cell_type": "markdown",
   "id": "4d895e45",
   "metadata": {},
   "source": [
    "## 📊 Vectors and Matrices"
   ]
  },
  {
   "cell_type": "code",
   "execution_count": 2,
   "id": "2a5188a4",
   "metadata": {},
   "outputs": [
    {
     "name": "stdout",
     "output_type": "stream",
     "text": [
      "Vector: [1 2 3]\n",
      "Matrix:\n",
      " [[1 2]\n",
      " [3 4]]\n"
     ]
    }
   ],
   "source": [
    "# Creating vectors and matrices with NumPy\n",
    "vector = np.array([1, 2, 3])  # A 1D vector\n",
    "matrix = np.array([[1, 2], [3, 4]])  # A 2x2 matrix\n",
    "\n",
    "print(\"Vector:\", vector)\n",
    "print(\"Matrix:\\n\", matrix)\n"
   ]
  },
  {
   "cell_type": "markdown",
   "id": "5ded4851",
   "metadata": {},
   "source": [
    "## 🔄 Linear Transformations"
   ]
  },
  {
   "cell_type": "code",
   "execution_count": 3,
   "id": "199388c9",
   "metadata": {},
   "outputs": [
    {
     "name": "stdout",
     "output_type": "stream",
     "text": [
      "Original Vector: [1 2]\n",
      "Transformed Vector: [2 6]\n"
     ]
    }
   ],
   "source": [
    "# Applying a linear transformation (Matrix Multiplication)\n",
    "transformation_matrix = np.array([[2, 0], [0, 3]])\n",
    "vector_2d = np.array([1, 2])\n",
    "\n",
    "transformed_vector = transformation_matrix @ vector_2d  # Matrix-vector multiplication\n",
    "print(\"Original Vector:\", vector_2d)\n",
    "print(\"Transformed Vector:\", transformed_vector)\n"
   ]
  },
  {
   "cell_type": "markdown",
   "id": "a4a458cc",
   "metadata": {},
   "source": [
    "## 🔢 Eigenvalues and Eigenvectors"
   ]
  },
  {
   "cell_type": "code",
   "execution_count": 4,
   "id": "77b81b89",
   "metadata": {},
   "outputs": [
    {
     "name": "stdout",
     "output_type": "stream",
     "text": [
      "Eigenvalues: [3. 2.]\n",
      "Eigenvectors:\n",
      " [[0.89442719 0.70710678]\n",
      " [0.4472136  0.70710678]]\n"
     ]
    }
   ],
   "source": [
    "# Compute eigenvalues and eigenvectors\n",
    "A = np.array([[4, -2], [1, 1]])\n",
    "eigenvalues, eigenvectors = eig(A)\n",
    "\n",
    "print(\"Eigenvalues:\", eigenvalues)\n",
    "print(\"Eigenvectors:\\n\", eigenvectors)\n"
   ]
  },
  {
   "cell_type": "markdown",
   "id": "03a369d0",
   "metadata": {},
   "source": [
    "## ⚡ Matrix Decomposition (SVD & LU)"
   ]
  },
  {
   "cell_type": "code",
   "execution_count": 5,
   "id": "f6a94c8b",
   "metadata": {},
   "outputs": [
    {
     "name": "stdout",
     "output_type": "stream",
     "text": [
      "Lower Triangular Matrix (L):\n",
      " [[1.         0.        ]\n",
      " [0.66666667 1.        ]]\n",
      "Upper Triangular Matrix (U):\n",
      " [[6. 3.]\n",
      " [0. 1.]]\n"
     ]
    }
   ],
   "source": [
    "# LU Decomposition\n",
    "A = np.array([[4, 3], [6, 3]])\n",
    "P, L, U = lu(A)\n",
    "\n",
    "print(\"Lower Triangular Matrix (L):\\n\", L)\n",
    "print(\"Upper Triangular Matrix (U):\\n\", U)\n"
   ]
  },
  {
   "cell_type": "code",
   "execution_count": 6,
   "id": "63619447",
   "metadata": {},
   "outputs": [
    {
     "name": "stdout",
     "output_type": "stream",
     "text": [
      "U:\n",
      " [[-0.2298477   0.88346102  0.40824829]\n",
      " [-0.52474482  0.24078249 -0.81649658]\n",
      " [-0.81964194 -0.40189603  0.40824829]]\n",
      "Singular Values (S):\n",
      " [9.52551809 0.51430058]\n",
      "V Transposed (Vt):\n",
      " [[-0.61962948 -0.78489445]\n",
      " [-0.78489445  0.61962948]]\n"
     ]
    }
   ],
   "source": [
    "# Singular Value Decomposition (SVD)\n",
    "A = np.array([[1, 2], [3, 4], [5, 6]])\n",
    "U, S, Vt = svd(A)\n",
    "\n",
    "print(\"U:\\n\", U)\n",
    "print(\"Singular Values (S):\\n\", S)\n",
    "print(\"V Transposed (Vt):\\n\", Vt)\n"
   ]
  },
  {
   "cell_type": "markdown",
   "id": "62d9f659",
   "metadata": {},
   "source": [
    "## 📈 Variance and Covariance"
   ]
  },
  {
   "cell_type": "code",
   "execution_count": 7,
   "id": "b1a4fbca",
   "metadata": {},
   "outputs": [
    {
     "name": "stdout",
     "output_type": "stream",
     "text": [
      "Variance:\n",
      " Feature1    9.0\n",
      "Feature2    9.0\n",
      "Feature3    9.0\n",
      "dtype: float64\n",
      "Covariance Matrix:\n",
      "           Feature1  Feature2  Feature3\n",
      "Feature1       9.0       9.0       9.0\n",
      "Feature2       9.0       9.0       9.0\n",
      "Feature3       9.0       9.0       9.0\n"
     ]
    }
   ],
   "source": [
    "# Compute variance and covariance matrix\n",
    "data = np.array([[2, 3, 4], [5, 6, 7], [8, 9, 10]])\n",
    "df = pd.DataFrame(data, columns=['Feature1', 'Feature2', 'Feature3'])\n",
    "\n",
    "variance = df.var()\n",
    "covariance_matrix = df.cov()\n",
    "\n",
    "print(\"Variance:\\n\", variance)\n",
    "print(\"Covariance Matrix:\\n\", covariance_matrix)\n"
   ]
  },
  {
   "cell_type": "markdown",
   "id": "8975ead0",
   "metadata": {},
   "source": [
    "## 🎯 Conclusion\n",
    "\n",
    "This notebook demonstrated **fundamental Linear Algebra concepts** with practical implementations in Python.  \n",
    "These concepts are crucial for **dimensionality reduction (PCA)**, **data transformations**, **deep learning**, and many other applications in **Data Science**.  \n",
    "\n",
    "Keep experimenting and exploring! 🚀  \n"
   ]
  }
 ],
 "metadata": {
  "kernelspec": {
   "display_name": ".venv",
   "language": "python",
   "name": "python3"
  },
  "language_info": {
   "codemirror_mode": {
    "name": "ipython",
    "version": 3
   },
   "file_extension": ".py",
   "mimetype": "text/x-python",
   "name": "python",
   "nbconvert_exporter": "python",
   "pygments_lexer": "ipython3",
   "version": "3.11.8"
  }
 },
 "nbformat": 4,
 "nbformat_minor": 5
}
